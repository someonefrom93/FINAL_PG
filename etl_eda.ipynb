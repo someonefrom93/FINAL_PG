{
 "cells": [
  {
   "cell_type": "code",
   "execution_count": 4,
   "metadata": {},
   "outputs": [],
   "source": [
    "import numpy as np\n",
    "import polars as pl\n",
    "import pandas as pd"
   ]
  },
  {
   "cell_type": "code",
   "execution_count": 12,
   "metadata": {},
   "outputs": [
    {
     "name": "stdout",
     "output_type": "stream",
     "text": [
      "shape: (1, 1)\n",
      "┌─────────┐\n",
      "│ count   │\n",
      "│ ---     │\n",
      "│ u32     │\n",
      "╞═════════╡\n",
      "│ 6990280 │\n",
      "└─────────┘\n"
     ]
    }
   ],
   "source": [
    "review_lf = pl.scan_ndjson(\"data/yelp/review-001.json\")\n",
    "ctx = pl.SQLContext(register_globals=True, eager_execution=True)\n",
    "df_small = ctx.execute(\"SELECT COUNT(*) FROM review_lf\")\n",
    "print(df_small)"
   ]
  },
  {
   "cell_type": "code",
   "execution_count": 25,
   "metadata": {},
   "outputs": [
    {
     "name": "stdout",
     "output_type": "stream",
     "text": [
      "shape: (6_990_280, 9)\n",
      "┌──────────────┬──────────────┬─────────────┬───────┬───┬───────┬──────┬─────────────┬─────────────┐\n",
      "│ review_id    ┆ user_id      ┆ business_id ┆ stars ┆ … ┆ funny ┆ cool ┆ text        ┆ date        │\n",
      "│ ---          ┆ ---          ┆ ---         ┆ ---   ┆   ┆ ---   ┆ ---  ┆ ---         ┆ ---         │\n",
      "│ str          ┆ str          ┆ str         ┆ f64   ┆   ┆ i64   ┆ i64  ┆ str         ┆ str         │\n",
      "╞══════════════╪══════════════╪═════════════╪═══════╪═══╪═══════╪══════╪═════════════╪═════════════╡\n",
      "│ KU_O5udG6zpx ┆ mh_-eMZ6K5RL ┆ XQfwVwDr-v0 ┆ 3.0   ┆ … ┆ 0     ┆ 0    ┆ If you      ┆ 2018-07-07  │\n",
      "│ Og-VcAEodg   ┆ WhZyISBhwA   ┆ ZS3_CbbE5Xw ┆       ┆   ┆       ┆      ┆ decide to   ┆ 22:09:11    │\n",
      "│              ┆              ┆             ┆       ┆   ┆       ┆      ┆ eat here,   ┆             │\n",
      "│              ┆              ┆             ┆       ┆   ┆       ┆      ┆ just …      ┆             │\n",
      "│ BiTunyQ73aT9 ┆ OyoGAe7OKpv6 ┆ 7ATYjTIgM3j ┆ 5.0   ┆ … ┆ 0     ┆ 1    ┆ I've taken  ┆ 2012-01-03  │\n",
      "│ WBnpR9DZGw   ┆ SyGZT5g77Q   ┆ Ult4UM3IypQ ┆       ┆   ┆       ┆      ┆ a lot of    ┆ 15:28:18    │\n",
      "│              ┆              ┆             ┆       ┆   ┆       ┆      ┆ spin        ┆             │\n",
      "│              ┆              ┆             ┆       ┆   ┆       ┆      ┆ classes…    ┆             │\n",
      "│ saUsX_uimxRl ┆ 8g_iMtfSiwik ┆ YjUWPpI6HXG ┆ 3.0   ┆ … ┆ 0     ┆ 0    ┆ Family      ┆ 2014-02-05  │\n",
      "│ CVr67Z4Jig   ┆ VnbP2etR0A   ┆ 530lwP-fb2A ┆       ┆   ┆       ┆      ┆ diner. Had  ┆ 20:30:30    │\n",
      "│              ┆              ┆             ┆       ┆   ┆       ┆      ┆ the buffet. ┆             │\n",
      "│              ┆              ┆             ┆       ┆   ┆       ┆      ┆ Ec…         ┆             │\n",
      "│ AqPFMleE6RsU ┆ _7bHUi9Uuf5_ ┆ kxX2SOes4o- ┆ 5.0   ┆ … ┆ 0     ┆ 1    ┆ Wow!        ┆ 2015-01-04  │\n",
      "│ 23_auESxiA   ┆ _HHc_Q8guQ   ┆ D3ZQBkiMRfA ┆       ┆   ┆       ┆      ┆ Yummy,      ┆ 00:01:03    │\n",
      "│              ┆              ┆             ┆       ┆   ┆       ┆      ┆ different,  ┆             │\n",
      "│              ┆              ┆             ┆       ┆   ┆       ┆      ┆ delicio…    ┆             │\n",
      "│ …            ┆ …            ┆ …           ┆ …     ┆ … ┆ …     ┆ …    ┆ …           ┆ …           │\n",
      "│ shTPgbgdwTHS ┆ Zo0th2m8Ez4g ┆ 2vLksaMmSEc ┆ 5.0   ┆ … ┆ 1     ┆ 2    ┆ This spot   ┆ 2021-03-31  │\n",
      "│ uU67mGCmZQ   ┆ LSbHftiQvg   ┆ GbjI5gywpZA ┆       ┆   ┆       ┆      ┆ offers a    ┆ 16:55:10    │\n",
      "│              ┆              ┆             ┆       ┆   ┆       ┆      ┆ great,      ┆             │\n",
      "│              ┆              ┆             ┆       ┆   ┆       ┆      ┆ afford…     ┆             │\n",
      "│ YNfNhgZlaaCO ┆ mm6E4FbCMwJm ┆ R1khUUxidqf ┆ 4.0   ┆ … ┆ 0     ┆ 0    ┆ This Home   ┆ 2019-12-30  │\n",
      "│ 5Q_YJR4rEw   ┆ b7kPDZ5v2Q   ┆ aJmcpmGd4aw ┆       ┆   ┆       ┆      ┆ Depot won   ┆ 03:56:30    │\n",
      "│              ┆              ┆             ┆       ┆   ┆       ┆      ┆ me over     ┆             │\n",
      "│              ┆              ┆             ┆       ┆   ┆       ┆      ┆ when…       ┆             │\n",
      "│ i-I4ZOhoX70N ┆ YwAMC-jvZ1fv ┆ Rr9kKArrMhS ┆ 5.0   ┆ … ┆ 0     ┆ 0    ┆ For when    ┆ 2022-01-19  │\n",
      "│ w5H0FwrQUA   ┆ EUum6QkEkw   ┆ LVE9a53q-aA ┆       ┆   ┆       ┆      ┆ I'm feeling ┆ 18:59:27    │\n",
      "│              ┆              ┆             ┆       ┆   ┆       ┆      ┆ like        ┆             │\n",
      "│              ┆              ┆             ┆       ┆   ┆       ┆      ┆ ignori…     ┆             │\n",
      "│ RwcKOdEuLRHN ┆ 6JehEvdoCvZP ┆ VAeEXLbEcI9 ┆ 3.0   ┆ … ┆ 3     ┆ 7    ┆ Located in  ┆ 2018-01-02  │\n",
      "│ Je4M9-qpqg   ┆ J_XIxnzIIw   ┆ Emt9KGYq9aA ┆       ┆   ┆       ┆      ┆ the         ┆ 22:50:47    │\n",
      "│              ┆              ┆             ┆       ┆   ┆       ┆      ┆ 'Walking    ┆             │\n",
      "│              ┆              ┆             ┆       ┆   ┆       ┆      ┆ District…   ┆             │\n",
      "└──────────────┴──────────────┴─────────────┴───────┴───┴───────┴──────┴─────────────┴─────────────┘\n"
     ]
    }
   ],
   "source": [
    "review_lf = pl.scan_ndjson(\"data/yelp/review-001.json\")\n",
    "ctx = pl.SQLContext(register_globals=True, eager_execution=True)\n",
    "df_small = ctx.execute(\"SELECT * FROM review_lf\")\n",
    "print(df_small)"
   ]
  },
  {
   "cell_type": "code",
   "execution_count": 37,
   "metadata": {},
   "outputs": [
    {
     "ename": "AttributeError",
     "evalue": "'Expr' object has no attribute 'strptime'",
     "output_type": "error",
     "traceback": [
      "\u001b[1;31m---------------------------------------------------------------------------\u001b[0m",
      "\u001b[1;31mAttributeError\u001b[0m                            Traceback (most recent call last)",
      "\u001b[1;32mc:\\Users\\jdieg\\Desktop\\henry\\proyectos\\FINAL\\etl_eda.ipynb Cell 4\u001b[0m line \u001b[0;36m1\n\u001b[1;32m----> <a href='vscode-notebook-cell:/c%3A/Users/jdieg/Desktop/henry/proyectos/FINAL/etl_eda.ipynb#W6sZmlsZQ%3D%3D?line=0'>1</a>\u001b[0m df_small\u001b[39m.\u001b[39mwith_columns(pl\u001b[39m.\u001b[39;49mcol(\u001b[39m\"\u001b[39;49m\u001b[39mdate\u001b[39;49m\u001b[39m\"\u001b[39;49m)\u001b[39m.\u001b[39;49mstrptime(\u001b[39m\"\u001b[39m\u001b[39m%\u001b[39m\u001b[39mY-\u001b[39m\u001b[39m%\u001b[39m\u001b[39mm-\u001b[39m\u001b[39m%d\u001b[39;00m\u001b[39m \u001b[39m\u001b[39m%\u001b[39m\u001b[39mH:\u001b[39m\u001b[39m%\u001b[39m\u001b[39mM:\u001b[39m\u001b[39m%\u001b[39m\u001b[39mS\u001b[39m\u001b[39m\"\u001b[39m))\n",
      "\u001b[1;31mAttributeError\u001b[0m: 'Expr' object has no attribute 'strptime'"
     ]
    }
   ],
   "source": [
    "df_small.with_columns(pl.col(\"date\").strptime(\"%Y-%m-%d %H:%M:%S\"))"
   ]
  },
  {
   "cell_type": "code",
   "execution_count": null,
   "metadata": {},
   "outputs": [],
   "source": []
  }
 ],
 "metadata": {
  "kernelspec": {
   "display_name": "Python 3",
   "language": "python",
   "name": "python3"
  },
  "language_info": {
   "codemirror_mode": {
    "name": "ipython",
    "version": 3
   },
   "file_extension": ".py",
   "mimetype": "text/x-python",
   "name": "python",
   "nbconvert_exporter": "python",
   "pygments_lexer": "ipython3",
   "version": "3.10.11"
  },
  "orig_nbformat": 4
 },
 "nbformat": 4,
 "nbformat_minor": 2
}
